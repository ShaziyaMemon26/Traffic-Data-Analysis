{
  "nbformat": 4,
  "nbformat_minor": 0,
  "metadata": {
    "colab": {
      "name": "Traffic Data Analysis.ipynb",
      "provenance": [],
      "authorship_tag": "ABX9TyOUpTZ8NGNFU1znmJIPOCP8",
      "include_colab_link": true
    },
    "kernelspec": {
      "name": "python3",
      "display_name": "Python 3"
    }
  },
  "cells": [
    {
      "cell_type": "markdown",
      "metadata": {
        "id": "view-in-github",
        "colab_type": "text"
      },
      "source": [
        "<a href=\"https://colab.research.google.com/github/ShaziyaMemon26/Traffic-Data-Analysis/blob/main/Traffic_Data_Analysis.ipynb\" target=\"_parent\"><img src=\"https://colab.research.google.com/assets/colab-badge.svg\" alt=\"Open In Colab\"/></a>"
      ]
    },
    {
      "cell_type": "code",
      "metadata": {
        "colab": {
          "base_uri": "https://localhost:8080/"
        },
        "id": "5WCNsgeP8K8T",
        "outputId": "e36182ce-f3e9-4794-fa58-32558c3663e7"
      },
      "source": [
        "from google.colab import drive\r\n",
        "drive.mount('/content/drive')"
      ],
      "execution_count": 2,
      "outputs": [
        {
          "output_type": "stream",
          "text": [
            "Mounted at /content/drive\n"
          ],
          "name": "stdout"
        }
      ]
    },
    {
      "cell_type": "code",
      "metadata": {
        "id": "RZMyHcS98PaC",
        "colab": {
          "base_uri": "https://localhost:8080/"
        },
        "outputId": "3bbe9160-d005-4b01-ae4f-41d5cdbb1cb8"
      },
      "source": [
        "import pandas as pd\r\n",
        "import numpy as np\r\n",
        "import seaborn as sns\r\n",
        "import matplotlib.pyplot as plt\r\n",
        "import seaborn as sns\r\n",
        "import statsmodels.formula.api as smf\r\n",
        "from sklearn import metrics\r\n",
        "from sklearn.metrics import r2_score\r\n",
        "from plotnine import *"
      ],
      "execution_count": 3,
      "outputs": [
        {
          "output_type": "stream",
          "text": [
            "/usr/local/lib/python3.6/dist-packages/statsmodels/tools/_testing.py:19: FutureWarning: pandas.util.testing is deprecated. Use the functions in the public API at pandas.testing instead.\n",
            "  import pandas.util.testing as tm\n"
          ],
          "name": "stderr"
        }
      ]
    },
    {
      "cell_type": "code",
      "metadata": {
        "colab": {
          "base_uri": "https://localhost:8080/",
          "height": 963
        },
        "id": "m-n1X1Ol80vZ",
        "outputId": "325ab114-2441-4dcf-e0d3-870143a27053"
      },
      "source": [
        "df = pd.read_excel('/content/drive/My Drive/uber.xlsx')\r\n",
        "df"
      ],
      "execution_count": 4,
      "outputs": [
        {
          "output_type": "execute_result",
          "data": {
            "text/html": [
              "<div>\n",
              "<style scoped>\n",
              "    .dataframe tbody tr th:only-of-type {\n",
              "        vertical-align: middle;\n",
              "    }\n",
              "\n",
              "    .dataframe tbody tr th {\n",
              "        vertical-align: top;\n",
              "    }\n",
              "\n",
              "    .dataframe thead th {\n",
              "        text-align: right;\n",
              "    }\n",
              "</style>\n",
              "<table border=\"1\" class=\"dataframe\">\n",
              "  <thead>\n",
              "    <tr style=\"text-align: right;\">\n",
              "      <th></th>\n",
              "      <th>Date</th>\n",
              "      <th>Origin Movement ID</th>\n",
              "      <th>Origin Display Name</th>\n",
              "      <th>Destination Movement ID</th>\n",
              "      <th>Destination Display Name</th>\n",
              "      <th>Daily Mean Travel Time (Seconds)</th>\n",
              "      <th>AM Mean Travel Time (Seconds)</th>\n",
              "      <th>PM Mean Travel Time (Seconds)</th>\n",
              "      <th>Midday Mean Travel Time (Seconds)</th>\n",
              "      <th>Evening  Mean Travel Time (Seconds)</th>\n",
              "      <th>Early Morning Mean Travel Time (Seconds)</th>\n",
              "    </tr>\n",
              "  </thead>\n",
              "  <tbody>\n",
              "    <tr>\n",
              "      <th>0</th>\n",
              "      <td>2017-04-04 00:00:00</td>\n",
              "      <td>100</td>\n",
              "      <td>Kempegowda, Majestic, Bengaluru, Karnataka</td>\n",
              "      <td>171</td>\n",
              "      <td>Analytics India Magazine, #280, 2nd floor, 5th...</td>\n",
              "      <td>2725</td>\n",
              "      <td>3197.0</td>\n",
              "      <td>2780.0</td>\n",
              "      <td>2615</td>\n",
              "      <td>3915</td>\n",
              "      <td>1552</td>\n",
              "    </tr>\n",
              "    <tr>\n",
              "      <th>1</th>\n",
              "      <td>2017-05-04 00:00:00</td>\n",
              "      <td>100</td>\n",
              "      <td>Kempegowda, Majestic, Bengaluru, Karnataka</td>\n",
              "      <td>171</td>\n",
              "      <td>Analytics India Magazine, #280, 2nd floor, 5th...</td>\n",
              "      <td>2859</td>\n",
              "      <td>2955.0</td>\n",
              "      <td>2945.0</td>\n",
              "      <td>2719</td>\n",
              "      <td>4036</td>\n",
              "      <td>1383</td>\n",
              "    </tr>\n",
              "    <tr>\n",
              "      <th>2</th>\n",
              "      <td>2017-06-04 00:00:00</td>\n",
              "      <td>100</td>\n",
              "      <td>Kempegowda, Majestic, Bengaluru, Karnataka</td>\n",
              "      <td>171</td>\n",
              "      <td>Analytics India Magazine, #280, 2nd floor, 5th...</td>\n",
              "      <td>2951</td>\n",
              "      <td>3336.0</td>\n",
              "      <td>2715.0</td>\n",
              "      <td>3078</td>\n",
              "      <td>3798</td>\n",
              "      <td>1483</td>\n",
              "    </tr>\n",
              "    <tr>\n",
              "      <th>3</th>\n",
              "      <td>2017-07-04 00:00:00</td>\n",
              "      <td>100</td>\n",
              "      <td>Kempegowda, Majestic, Bengaluru, Karnataka</td>\n",
              "      <td>171</td>\n",
              "      <td>Analytics India Magazine, #280, 2nd floor, 5th...</td>\n",
              "      <td>2913</td>\n",
              "      <td>2857.0</td>\n",
              "      <td>2788.0</td>\n",
              "      <td>3411</td>\n",
              "      <td>3791</td>\n",
              "      <td>1559</td>\n",
              "    </tr>\n",
              "    <tr>\n",
              "      <th>4</th>\n",
              "      <td>2017-08-04 00:00:00</td>\n",
              "      <td>100</td>\n",
              "      <td>Kempegowda, Majestic, Bengaluru, Karnataka</td>\n",
              "      <td>171</td>\n",
              "      <td>Analytics India Magazine, #280, 2nd floor, 5th...</td>\n",
              "      <td>2845</td>\n",
              "      <td>3180.0</td>\n",
              "      <td>2423.0</td>\n",
              "      <td>3100</td>\n",
              "      <td>3653</td>\n",
              "      <td>1468</td>\n",
              "    </tr>\n",
              "    <tr>\n",
              "      <th>...</th>\n",
              "      <td>...</td>\n",
              "      <td>...</td>\n",
              "      <td>...</td>\n",
              "      <td>...</td>\n",
              "      <td>...</td>\n",
              "      <td>...</td>\n",
              "      <td>...</td>\n",
              "      <td>...</td>\n",
              "      <td>...</td>\n",
              "      <td>...</td>\n",
              "      <td>...</td>\n",
              "    </tr>\n",
              "    <tr>\n",
              "      <th>816</th>\n",
              "      <td>02/24/2017</td>\n",
              "      <td>100</td>\n",
              "      <td>Kempegowda, Majestic, Bengaluru, Karnataka</td>\n",
              "      <td>171</td>\n",
              "      <td>Analytics India Magazine, #280, 2nd floor, 5th...</td>\n",
              "      <td>2124</td>\n",
              "      <td>2452.0</td>\n",
              "      <td>2518.0</td>\n",
              "      <td>2041</td>\n",
              "      <td>2587</td>\n",
              "      <td>1537</td>\n",
              "    </tr>\n",
              "    <tr>\n",
              "      <th>817</th>\n",
              "      <td>02/25/2017</td>\n",
              "      <td>100</td>\n",
              "      <td>Kempegowda, Majestic, Bengaluru, Karnataka</td>\n",
              "      <td>171</td>\n",
              "      <td>Analytics India Magazine, #280, 2nd floor, 5th...</td>\n",
              "      <td>2287</td>\n",
              "      <td>3061.0</td>\n",
              "      <td>2193.0</td>\n",
              "      <td>2313</td>\n",
              "      <td>2958</td>\n",
              "      <td>1481</td>\n",
              "    </tr>\n",
              "    <tr>\n",
              "      <th>818</th>\n",
              "      <td>02/26/2017</td>\n",
              "      <td>100</td>\n",
              "      <td>Kempegowda, Majestic, Bengaluru, Karnataka</td>\n",
              "      <td>171</td>\n",
              "      <td>Analytics India Magazine, #280, 2nd floor, 5th...</td>\n",
              "      <td>1966</td>\n",
              "      <td>2351.0</td>\n",
              "      <td>1952.0</td>\n",
              "      <td>2018</td>\n",
              "      <td>2446</td>\n",
              "      <td>1471</td>\n",
              "    </tr>\n",
              "    <tr>\n",
              "      <th>819</th>\n",
              "      <td>02/27/2017</td>\n",
              "      <td>100</td>\n",
              "      <td>Kempegowda, Majestic, Bengaluru, Karnataka</td>\n",
              "      <td>171</td>\n",
              "      <td>Analytics India Magazine, #280, 2nd floor, 5th...</td>\n",
              "      <td>2322</td>\n",
              "      <td>3164.0</td>\n",
              "      <td>2684.0</td>\n",
              "      <td>2135</td>\n",
              "      <td>3111</td>\n",
              "      <td>1521</td>\n",
              "    </tr>\n",
              "    <tr>\n",
              "      <th>820</th>\n",
              "      <td>02/28/2017</td>\n",
              "      <td>100</td>\n",
              "      <td>Kempegowda, Majestic, Bengaluru, Karnataka</td>\n",
              "      <td>171</td>\n",
              "      <td>Analytics India Magazine, #280, 2nd floor, 5th...</td>\n",
              "      <td>2754</td>\n",
              "      <td>2908.0</td>\n",
              "      <td>2946.0</td>\n",
              "      <td>2643</td>\n",
              "      <td>3904</td>\n",
              "      <td>1552</td>\n",
              "    </tr>\n",
              "  </tbody>\n",
              "</table>\n",
              "<p>821 rows × 11 columns</p>\n",
              "</div>"
            ],
            "text/plain": [
              "                    Date  ...  Early Morning Mean Travel Time (Seconds)\n",
              "0    2017-04-04 00:00:00  ...                                      1552\n",
              "1    2017-05-04 00:00:00  ...                                      1383\n",
              "2    2017-06-04 00:00:00  ...                                      1483\n",
              "3    2017-07-04 00:00:00  ...                                      1559\n",
              "4    2017-08-04 00:00:00  ...                                      1468\n",
              "..                   ...  ...                                       ...\n",
              "816           02/24/2017  ...                                      1537\n",
              "817           02/25/2017  ...                                      1481\n",
              "818           02/26/2017  ...                                      1471\n",
              "819           02/27/2017  ...                                      1521\n",
              "820           02/28/2017  ...                                      1552\n",
              "\n",
              "[821 rows x 11 columns]"
            ]
          },
          "metadata": {
            "tags": []
          },
          "execution_count": 4
        }
      ]
    },
    {
      "cell_type": "code",
      "metadata": {
        "colab": {
          "base_uri": "https://localhost:8080/"
        },
        "id": "oVohOtD-83i2",
        "outputId": "15c3215a-c0cc-4f15-d510-8c1c2a57d8ef"
      },
      "source": [
        "df.shape"
      ],
      "execution_count": 5,
      "outputs": [
        {
          "output_type": "execute_result",
          "data": {
            "text/plain": [
              "(821, 11)"
            ]
          },
          "metadata": {
            "tags": []
          },
          "execution_count": 5
        }
      ]
    },
    {
      "cell_type": "code",
      "metadata": {
        "colab": {
          "base_uri": "https://localhost:8080/"
        },
        "id": "7FG5ngI786R5",
        "outputId": "a402775c-4bd5-4a54-a2be-846c6f825b60"
      },
      "source": [
        "df.dtypes"
      ],
      "execution_count": 6,
      "outputs": [
        {
          "output_type": "execute_result",
          "data": {
            "text/plain": [
              "Date                                         object\n",
              "Origin Movement ID                            int64\n",
              "Origin Display Name                          object\n",
              "Destination Movement ID                       int64\n",
              "Destination Display Name                     object\n",
              "Daily Mean Travel Time (Seconds)              int64\n",
              "AM Mean Travel Time (Seconds)               float64\n",
              "PM Mean Travel Time (Seconds)               float64\n",
              "Midday Mean Travel Time (Seconds)             int64\n",
              "Evening  Mean Travel Time (Seconds)           int64\n",
              "Early Morning Mean Travel Time (Seconds)      int64\n",
              "dtype: object"
            ]
          },
          "metadata": {
            "tags": []
          },
          "execution_count": 6
        }
      ]
    },
    {
      "cell_type": "code",
      "metadata": {
        "colab": {
          "base_uri": "https://localhost:8080/"
        },
        "id": "QFWDj_lh9BwN",
        "outputId": "99604656-0daa-450d-af3c-537cb7f5e680"
      },
      "source": [
        "df.nunique()"
      ],
      "execution_count": 7,
      "outputs": [
        {
          "output_type": "execute_result",
          "data": {
            "text/plain": [
              "Date                                        821\n",
              "Origin Movement ID                            1\n",
              "Origin Display Name                           1\n",
              "Destination Movement ID                       1\n",
              "Destination Display Name                      1\n",
              "Daily Mean Travel Time (Seconds)            596\n",
              "AM Mean Travel Time (Seconds)               592\n",
              "PM Mean Travel Time (Seconds)               624\n",
              "Midday Mean Travel Time (Seconds)           624\n",
              "Evening  Mean Travel Time (Seconds)         707\n",
              "Early Morning Mean Travel Time (Seconds)    362\n",
              "dtype: int64"
            ]
          },
          "metadata": {
            "tags": []
          },
          "execution_count": 7
        }
      ]
    },
    {
      "cell_type": "code",
      "metadata": {
        "colab": {
          "base_uri": "https://localhost:8080/"
        },
        "id": "yXdGDA_P9TaB",
        "outputId": "7654e113-67ef-458d-9e7e-9259519d0a83"
      },
      "source": [
        "df['Origin Display Name'].unique()"
      ],
      "execution_count": 8,
      "outputs": [
        {
          "output_type": "execute_result",
          "data": {
            "text/plain": [
              "array(['Kempegowda, Majestic, Bengaluru, Karnataka'], dtype=object)"
            ]
          },
          "metadata": {
            "tags": []
          },
          "execution_count": 8
        }
      ]
    },
    {
      "cell_type": "code",
      "metadata": {
        "colab": {
          "base_uri": "https://localhost:8080/"
        },
        "id": "DJJHIEjC9XC2",
        "outputId": "16b6d8b2-9de7-411b-d901-5fb8e444d22f"
      },
      "source": [
        "df['Destination Display Name'].unique()"
      ],
      "execution_count": 9,
      "outputs": [
        {
          "output_type": "execute_result",
          "data": {
            "text/plain": [
              "array(['Analytics India Magazine, #280, 2nd floor, 5th Main, 15th A Cross Road, Sector 6, HSR Layout, Bengaluru, Karnataka'],\n",
              "      dtype=object)"
            ]
          },
          "metadata": {
            "tags": []
          },
          "execution_count": 9
        }
      ]
    },
    {
      "cell_type": "code",
      "metadata": {
        "colab": {
          "base_uri": "https://localhost:8080/"
        },
        "id": "Dm8_QykN9Y-6",
        "outputId": "fc4f3d37-8735-4b95-f5f1-a772ed17406d"
      },
      "source": [
        "df.isnull().sum()"
      ],
      "execution_count": 10,
      "outputs": [
        {
          "output_type": "execute_result",
          "data": {
            "text/plain": [
              "Date                                        0\n",
              "Origin Movement ID                          0\n",
              "Origin Display Name                         0\n",
              "Destination Movement ID                     0\n",
              "Destination Display Name                    0\n",
              "Daily Mean Travel Time (Seconds)            0\n",
              "AM Mean Travel Time (Seconds)               1\n",
              "PM Mean Travel Time (Seconds)               1\n",
              "Midday Mean Travel Time (Seconds)           0\n",
              "Evening  Mean Travel Time (Seconds)         0\n",
              "Early Morning Mean Travel Time (Seconds)    0\n",
              "dtype: int64"
            ]
          },
          "metadata": {
            "tags": []
          },
          "execution_count": 10
        }
      ]
    },
    {
      "cell_type": "code",
      "metadata": {
        "id": "yRsCFPn99eB7"
      },
      "source": [
        "df.fillna(df.mean(),inplace = True)"
      ],
      "execution_count": 11,
      "outputs": []
    },
    {
      "cell_type": "code",
      "metadata": {
        "colab": {
          "base_uri": "https://localhost:8080/"
        },
        "id": "k-eSG0W19hXf",
        "outputId": "e1b03886-7da2-487b-9cbd-33f0fe20177b"
      },
      "source": [
        "df.isnull().sum()"
      ],
      "execution_count": 12,
      "outputs": [
        {
          "output_type": "execute_result",
          "data": {
            "text/plain": [
              "Date                                        0\n",
              "Origin Movement ID                          0\n",
              "Origin Display Name                         0\n",
              "Destination Movement ID                     0\n",
              "Destination Display Name                    0\n",
              "Daily Mean Travel Time (Seconds)            0\n",
              "AM Mean Travel Time (Seconds)               0\n",
              "PM Mean Travel Time (Seconds)               0\n",
              "Midday Mean Travel Time (Seconds)           0\n",
              "Evening  Mean Travel Time (Seconds)         0\n",
              "Early Morning Mean Travel Time (Seconds)    0\n",
              "dtype: int64"
            ]
          },
          "metadata": {
            "tags": []
          },
          "execution_count": 12
        }
      ]
    },
    {
      "cell_type": "code",
      "metadata": {
        "colab": {
          "base_uri": "https://localhost:8080/",
          "height": 331
        },
        "id": "RVhAH1bW9jjB",
        "outputId": "5687ce17-7629-46ea-c5f9-3a65cf07d8cb"
      },
      "source": [
        "df.describe()"
      ],
      "execution_count": 13,
      "outputs": [
        {
          "output_type": "execute_result",
          "data": {
            "text/html": [
              "<div>\n",
              "<style scoped>\n",
              "    .dataframe tbody tr th:only-of-type {\n",
              "        vertical-align: middle;\n",
              "    }\n",
              "\n",
              "    .dataframe tbody tr th {\n",
              "        vertical-align: top;\n",
              "    }\n",
              "\n",
              "    .dataframe thead th {\n",
              "        text-align: right;\n",
              "    }\n",
              "</style>\n",
              "<table border=\"1\" class=\"dataframe\">\n",
              "  <thead>\n",
              "    <tr style=\"text-align: right;\">\n",
              "      <th></th>\n",
              "      <th>Origin Movement ID</th>\n",
              "      <th>Destination Movement ID</th>\n",
              "      <th>Daily Mean Travel Time (Seconds)</th>\n",
              "      <th>AM Mean Travel Time (Seconds)</th>\n",
              "      <th>PM Mean Travel Time (Seconds)</th>\n",
              "      <th>Midday Mean Travel Time (Seconds)</th>\n",
              "      <th>Evening  Mean Travel Time (Seconds)</th>\n",
              "      <th>Early Morning Mean Travel Time (Seconds)</th>\n",
              "    </tr>\n",
              "  </thead>\n",
              "  <tbody>\n",
              "    <tr>\n",
              "      <th>count</th>\n",
              "      <td>821.0</td>\n",
              "      <td>821.0</td>\n",
              "      <td>821.000000</td>\n",
              "      <td>821.000000</td>\n",
              "      <td>821.000000</td>\n",
              "      <td>821.000000</td>\n",
              "      <td>821.000000</td>\n",
              "      <td>821.000000</td>\n",
              "    </tr>\n",
              "    <tr>\n",
              "      <th>mean</th>\n",
              "      <td>100.0</td>\n",
              "      <td>171.0</td>\n",
              "      <td>2735.002436</td>\n",
              "      <td>3020.345122</td>\n",
              "      <td>2683.089024</td>\n",
              "      <td>2718.410475</td>\n",
              "      <td>3736.723508</td>\n",
              "      <td>1531.076736</td>\n",
              "    </tr>\n",
              "    <tr>\n",
              "      <th>std</th>\n",
              "      <td>0.0</td>\n",
              "      <td>0.0</td>\n",
              "      <td>350.883762</td>\n",
              "      <td>408.026017</td>\n",
              "      <td>485.720622</td>\n",
              "      <td>426.238435</td>\n",
              "      <td>722.773093</td>\n",
              "      <td>120.338710</td>\n",
              "    </tr>\n",
              "    <tr>\n",
              "      <th>min</th>\n",
              "      <td>100.0</td>\n",
              "      <td>171.0</td>\n",
              "      <td>1641.000000</td>\n",
              "      <td>1736.000000</td>\n",
              "      <td>1577.000000</td>\n",
              "      <td>1469.000000</td>\n",
              "      <td>1873.000000</td>\n",
              "      <td>1243.000000</td>\n",
              "    </tr>\n",
              "    <tr>\n",
              "      <th>25%</th>\n",
              "      <td>100.0</td>\n",
              "      <td>171.0</td>\n",
              "      <td>2551.000000</td>\n",
              "      <td>2812.000000</td>\n",
              "      <td>2259.000000</td>\n",
              "      <td>2430.000000</td>\n",
              "      <td>3357.000000</td>\n",
              "      <td>1455.000000</td>\n",
              "    </tr>\n",
              "    <tr>\n",
              "      <th>50%</th>\n",
              "      <td>100.0</td>\n",
              "      <td>171.0</td>\n",
              "      <td>2762.000000</td>\n",
              "      <td>3062.000000</td>\n",
              "      <td>2773.000000</td>\n",
              "      <td>2676.000000</td>\n",
              "      <td>3785.000000</td>\n",
              "      <td>1512.000000</td>\n",
              "    </tr>\n",
              "    <tr>\n",
              "      <th>75%</th>\n",
              "      <td>100.0</td>\n",
              "      <td>171.0</td>\n",
              "      <td>2946.000000</td>\n",
              "      <td>3261.000000</td>\n",
              "      <td>3027.000000</td>\n",
              "      <td>2916.000000</td>\n",
              "      <td>4153.000000</td>\n",
              "      <td>1588.000000</td>\n",
              "    </tr>\n",
              "    <tr>\n",
              "      <th>max</th>\n",
              "      <td>100.0</td>\n",
              "      <td>171.0</td>\n",
              "      <td>4283.000000</td>\n",
              "      <td>4509.000000</td>\n",
              "      <td>4271.000000</td>\n",
              "      <td>5876.000000</td>\n",
              "      <td>6736.000000</td>\n",
              "      <td>2152.000000</td>\n",
              "    </tr>\n",
              "  </tbody>\n",
              "</table>\n",
              "</div>"
            ],
            "text/plain": [
              "       Origin Movement ID  ...  Early Morning Mean Travel Time (Seconds)\n",
              "count               821.0  ...                                821.000000\n",
              "mean                100.0  ...                               1531.076736\n",
              "std                   0.0  ...                                120.338710\n",
              "min                 100.0  ...                               1243.000000\n",
              "25%                 100.0  ...                               1455.000000\n",
              "50%                 100.0  ...                               1512.000000\n",
              "75%                 100.0  ...                               1588.000000\n",
              "max                 100.0  ...                               2152.000000\n",
              "\n",
              "[8 rows x 8 columns]"
            ]
          },
          "metadata": {
            "tags": []
          },
          "execution_count": 13
        }
      ]
    },
    {
      "cell_type": "code",
      "metadata": {
        "colab": {
          "base_uri": "https://localhost:8080/",
          "height": 1000
        },
        "id": "xTE--WB_9nH-",
        "outputId": "dd698b86-6e09-47ab-99f2-11e9d0de760e"
      },
      "source": [
        "plt.rcParams['figure.figsize']=(25,25)\r\n",
        "df.hist()"
      ],
      "execution_count": 14,
      "outputs": [
        {
          "output_type": "execute_result",
          "data": {
            "text/plain": [
              "array([[<matplotlib.axes._subplots.AxesSubplot object at 0x7f6afb79b9e8>,\n",
              "        <matplotlib.axes._subplots.AxesSubplot object at 0x7f6afb772c88>,\n",
              "        <matplotlib.axes._subplots.AxesSubplot object at 0x7f6afb724ef0>],\n",
              "       [<matplotlib.axes._subplots.AxesSubplot object at 0x7f6afb6e1198>,\n",
              "        <matplotlib.axes._subplots.AxesSubplot object at 0x7f6afb692400>,\n",
              "        <matplotlib.axes._subplots.AxesSubplot object at 0x7f6afb6c2668>],\n",
              "       [<matplotlib.axes._subplots.AxesSubplot object at 0x7f6afb6748d0>,\n",
              "        <matplotlib.axes._subplots.AxesSubplot object at 0x7f6afb627b00>,\n",
              "        <matplotlib.axes._subplots.AxesSubplot object at 0x7f6afb627b70>]],\n",
              "      dtype=object)"
            ]
          },
          "metadata": {
            "tags": []
          },
          "execution_count": 14
        },
        {
          "output_type": "display_data",
          "data": {
            "image/png": "[encoded data removed]",
            "text/plain": [
              "<Figure size 1800x1800 with 9 Axes>"
            ]
          },
          "metadata": {
            "tags": [],
            "needs_background": "light"
          }
        }
      ]
    },
    {
      "cell_type": "code",
      "metadata": {
        "colab": {
          "base_uri": "https://localhost:8080/",
          "height": 405
        },
        "id": "WR13Snr3KB0w",
        "outputId": "29f52c2a-e615-4aae-ef49-588af3fa1454"
      },
      "source": [
        "plt.rcParams['figure.figsize']=(6,6)\r\n",
        "plt.hist(df['AM Mean Travel Time (Seconds)'],rwidth=0.5)\r\n",
        "plt.xlabel('AM Mean Travel Time (Seconds)')"
      ],
      "execution_count": 15,
      "outputs": [
        {
          "output_type": "execute_result",
          "data": {
            "text/plain": [
              "Text(0.5, 0, 'AM Mean Travel Time (Seconds)')"
            ]
          },
          "metadata": {
            "tags": []
          },
          "execution_count": 15
        },
        {
          "output_type": "display_data",
          "data": {
            "image/png": "[encoded data removed]",
            "text/plain": [
              "<Figure size 432x432 with 1 Axes>"
            ]
          },
          "metadata": {
            "tags": [],
            "needs_background": "light"
          }
        }
      ]
    },
    {
      "cell_type": "code",
      "metadata": {
        "colab": {
          "base_uri": "https://localhost:8080/",
          "height": 405
        },
        "id": "jY8bS6YWOHEq",
        "outputId": "33d2fcc7-dda3-4778-edcf-da95b758f02d"
      },
      "source": [
        "plt.rcParams['figure.figsize']=(6,6)\r\n",
        "plt.hist(df['Early Morning Mean Travel Time (Seconds)'],rwidth=0.8)\r\n",
        "plt.xlabel('Early Morning Mean Travel Time (Seconds)')"
      ],
      "execution_count": 16,
      "outputs": [
        {
          "output_type": "execute_result",
          "data": {
            "text/plain": [
              "Text(0.5, 0, 'Early Morning Mean Travel Time (Seconds)')"
            ]
          },
          "metadata": {
            "tags": []
          },
          "execution_count": 16
        },
        {
          "output_type": "display_data",
          "data": {
            "image/png": "[encoded data removed]",
            "text/plain": [
              "<Figure size 432x432 with 1 Axes>"
            ]
          },
          "metadata": {
            "tags": [],
            "needs_background": "light"
          }
        }
      ]
    },
    {
      "cell_type": "code",
      "metadata": {
        "id": "K56itoSq9r95"
      },
      "source": [
        "data = df.drop(columns= ['Origin Movement ID','Destination Movement ID','Destination Display Name','Origin Display Name','Daily Mean Travel Time (Seconds)'],axis=1).set_index('Date')"
      ],
      "execution_count": 17,
      "outputs": []
    },
    {
      "cell_type": "code",
      "metadata": {
        "colab": {
          "base_uri": "https://localhost:8080/",
          "height": 438
        },
        "id": "Bp04V1Wg90Vc",
        "outputId": "f04bb942-695b-4409-a2db-76c20705b16a"
      },
      "source": [
        "data1=data[810:]\r\n",
        "data1"
      ],
      "execution_count": 18,
      "outputs": [
        {
          "output_type": "execute_result",
          "data": {
            "text/html": [
              "<div>\n",
              "<style scoped>\n",
              "    .dataframe tbody tr th:only-of-type {\n",
              "        vertical-align: middle;\n",
              "    }\n",
              "\n",
              "    .dataframe tbody tr th {\n",
              "        vertical-align: top;\n",
              "    }\n",
              "\n",
              "    .dataframe thead th {\n",
              "        text-align: right;\n",
              "    }\n",
              "</style>\n",
              "<table border=\"1\" class=\"dataframe\">\n",
              "  <thead>\n",
              "    <tr style=\"text-align: right;\">\n",
              "      <th></th>\n",
              "      <th>AM Mean Travel Time (Seconds)</th>\n",
              "      <th>PM Mean Travel Time (Seconds)</th>\n",
              "      <th>Midday Mean Travel Time (Seconds)</th>\n",
              "      <th>Evening  Mean Travel Time (Seconds)</th>\n",
              "      <th>Early Morning Mean Travel Time (Seconds)</th>\n",
              "    </tr>\n",
              "    <tr>\n",
              "      <th>Date</th>\n",
              "      <th></th>\n",
              "      <th></th>\n",
              "      <th></th>\n",
              "      <th></th>\n",
              "      <th></th>\n",
              "    </tr>\n",
              "  </thead>\n",
              "  <tbody>\n",
              "    <tr>\n",
              "      <th>02/18/2017</th>\n",
              "      <td>3337.0</td>\n",
              "      <td>2395.0</td>\n",
              "      <td>2589</td>\n",
              "      <td>3679</td>\n",
              "      <td>1536</td>\n",
              "    </tr>\n",
              "    <tr>\n",
              "      <th>02/19/2017</th>\n",
              "      <td>2512.0</td>\n",
              "      <td>2079.0</td>\n",
              "      <td>2279</td>\n",
              "      <td>2574</td>\n",
              "      <td>1493</td>\n",
              "    </tr>\n",
              "    <tr>\n",
              "      <th>02/20/2017</th>\n",
              "      <td>3093.0</td>\n",
              "      <td>3241.0</td>\n",
              "      <td>2536</td>\n",
              "      <td>3637</td>\n",
              "      <td>1474</td>\n",
              "    </tr>\n",
              "    <tr>\n",
              "      <th>02/21/2017</th>\n",
              "      <td>3064.0</td>\n",
              "      <td>3169.0</td>\n",
              "      <td>2433</td>\n",
              "      <td>3836</td>\n",
              "      <td>1531</td>\n",
              "    </tr>\n",
              "    <tr>\n",
              "      <th>02/22/2017</th>\n",
              "      <td>3257.0</td>\n",
              "      <td>2850.0</td>\n",
              "      <td>2421</td>\n",
              "      <td>3437</td>\n",
              "      <td>1551</td>\n",
              "    </tr>\n",
              "    <tr>\n",
              "      <th>02/23/2017</th>\n",
              "      <td>3147.0</td>\n",
              "      <td>2826.0</td>\n",
              "      <td>2524</td>\n",
              "      <td>3694</td>\n",
              "      <td>1378</td>\n",
              "    </tr>\n",
              "    <tr>\n",
              "      <th>02/24/2017</th>\n",
              "      <td>2452.0</td>\n",
              "      <td>2518.0</td>\n",
              "      <td>2041</td>\n",
              "      <td>2587</td>\n",
              "      <td>1537</td>\n",
              "    </tr>\n",
              "    <tr>\n",
              "      <th>02/25/2017</th>\n",
              "      <td>3061.0</td>\n",
              "      <td>2193.0</td>\n",
              "      <td>2313</td>\n",
              "      <td>2958</td>\n",
              "      <td>1481</td>\n",
              "    </tr>\n",
              "    <tr>\n",
              "      <th>02/26/2017</th>\n",
              "      <td>2351.0</td>\n",
              "      <td>1952.0</td>\n",
              "      <td>2018</td>\n",
              "      <td>2446</td>\n",
              "      <td>1471</td>\n",
              "    </tr>\n",
              "    <tr>\n",
              "      <th>02/27/2017</th>\n",
              "      <td>3164.0</td>\n",
              "      <td>2684.0</td>\n",
              "      <td>2135</td>\n",
              "      <td>3111</td>\n",
              "      <td>1521</td>\n",
              "    </tr>\n",
              "    <tr>\n",
              "      <th>02/28/2017</th>\n",
              "      <td>2908.0</td>\n",
              "      <td>2946.0</td>\n",
              "      <td>2643</td>\n",
              "      <td>3904</td>\n",
              "      <td>1552</td>\n",
              "    </tr>\n",
              "  </tbody>\n",
              "</table>\n",
              "</div>"
            ],
            "text/plain": [
              "            AM Mean Travel Time (Seconds)  ...  Early Morning Mean Travel Time (Seconds)\n",
              "Date                                       ...                                          \n",
              "02/18/2017                         3337.0  ...                                      1536\n",
              "02/19/2017                         2512.0  ...                                      1493\n",
              "02/20/2017                         3093.0  ...                                      1474\n",
              "02/21/2017                         3064.0  ...                                      1531\n",
              "02/22/2017                         3257.0  ...                                      1551\n",
              "02/23/2017                         3147.0  ...                                      1378\n",
              "02/24/2017                         2452.0  ...                                      1537\n",
              "02/25/2017                         3061.0  ...                                      1481\n",
              "02/26/2017                         2351.0  ...                                      1471\n",
              "02/27/2017                         3164.0  ...                                      1521\n",
              "02/28/2017                         2908.0  ...                                      1552\n",
              "\n",
              "[11 rows x 5 columns]"
            ]
          },
          "metadata": {
            "tags": []
          },
          "execution_count": 18
        }
      ]
    },
    {
      "cell_type": "code",
      "metadata": {
        "colab": {
          "base_uri": "https://localhost:8080/",
          "height": 702
        },
        "id": "jK4sxjCw92ZV",
        "outputId": "ea1b1bab-28de-4400-affd-36e6449511f6"
      },
      "source": [
        "plt.figure(figsize=(12,8))\r\n",
        "sns.heatmap(data1)"
      ],
      "execution_count": 19,
      "outputs": [
        {
          "output_type": "execute_result",
          "data": {
            "text/plain": [
              "<matplotlib.axes._subplots.AxesSubplot at 0x7f6afaf37cc0>"
            ]
          },
          "metadata": {
            "tags": []
          },
          "execution_count": 19
        },
        {
          "output_type": "display_data",
          "data": {
            "image/png": "[encoded data removed]",
            "text/plain": [
              "<Figure size 864x576 with 2 Axes>"
            ]
          },
          "metadata": {
            "tags": [],
            "needs_background": "light"
          }
        }
      ]
    },
    {
      "cell_type": "code",
      "metadata": {
        "colab": {
          "base_uri": "https://localhost:8080/",
          "height": 575
        },
        "id": "0XUDv62B-c0Y",
        "outputId": "8fbfac89-007c-4e16-d75e-dd1195797e5e"
      },
      "source": [
        "data2=df[14:20]\r\n",
        "data2"
      ],
      "execution_count": 20,
      "outputs": [
        {
          "output_type": "execute_result",
          "data": {
            "text/html": [
              "<div>\n",
              "<style scoped>\n",
              "    .dataframe tbody tr th:only-of-type {\n",
              "        vertical-align: middle;\n",
              "    }\n",
              "\n",
              "    .dataframe tbody tr th {\n",
              "        vertical-align: top;\n",
              "    }\n",
              "\n",
              "    .dataframe thead th {\n",
              "        text-align: right;\n",
              "    }\n",
              "</style>\n",
              "<table border=\"1\" class=\"dataframe\">\n",
              "  <thead>\n",
              "    <tr style=\"text-align: right;\">\n",
              "      <th></th>\n",
              "      <th>Date</th>\n",
              "      <th>Origin Movement ID</th>\n",
              "      <th>Origin Display Name</th>\n",
              "      <th>Destination Movement ID</th>\n",
              "      <th>Destination Display Name</th>\n",
              "      <th>Daily Mean Travel Time (Seconds)</th>\n",
              "      <th>AM Mean Travel Time (Seconds)</th>\n",
              "      <th>PM Mean Travel Time (Seconds)</th>\n",
              "      <th>Midday Mean Travel Time (Seconds)</th>\n",
              "      <th>Evening  Mean Travel Time (Seconds)</th>\n",
              "      <th>Early Morning Mean Travel Time (Seconds)</th>\n",
              "    </tr>\n",
              "  </thead>\n",
              "  <tbody>\n",
              "    <tr>\n",
              "      <th>14</th>\n",
              "      <td>04/18/2017</td>\n",
              "      <td>100</td>\n",
              "      <td>Kempegowda, Majestic, Bengaluru, Karnataka</td>\n",
              "      <td>171</td>\n",
              "      <td>Analytics India Magazine, #280, 2nd floor, 5th...</td>\n",
              "      <td>3282</td>\n",
              "      <td>3735.0</td>\n",
              "      <td>3424.0</td>\n",
              "      <td>3283</td>\n",
              "      <td>3898</td>\n",
              "      <td>1578</td>\n",
              "    </tr>\n",
              "    <tr>\n",
              "      <th>15</th>\n",
              "      <td>04/19/2017</td>\n",
              "      <td>100</td>\n",
              "      <td>Kempegowda, Majestic, Bengaluru, Karnataka</td>\n",
              "      <td>171</td>\n",
              "      <td>Analytics India Magazine, #280, 2nd floor, 5th...</td>\n",
              "      <td>3139</td>\n",
              "      <td>3292.0</td>\n",
              "      <td>3233.0</td>\n",
              "      <td>3373</td>\n",
              "      <td>4420</td>\n",
              "      <td>1497</td>\n",
              "    </tr>\n",
              "    <tr>\n",
              "      <th>16</th>\n",
              "      <td>04/20/2017</td>\n",
              "      <td>100</td>\n",
              "      <td>Kempegowda, Majestic, Bengaluru, Karnataka</td>\n",
              "      <td>171</td>\n",
              "      <td>Analytics India Magazine, #280, 2nd floor, 5th...</td>\n",
              "      <td>2963</td>\n",
              "      <td>3312.0</td>\n",
              "      <td>2977.0</td>\n",
              "      <td>2793</td>\n",
              "      <td>4281</td>\n",
              "      <td>1601</td>\n",
              "    </tr>\n",
              "    <tr>\n",
              "      <th>17</th>\n",
              "      <td>04/21/2017</td>\n",
              "      <td>100</td>\n",
              "      <td>Kempegowda, Majestic, Bengaluru, Karnataka</td>\n",
              "      <td>171</td>\n",
              "      <td>Analytics India Magazine, #280, 2nd floor, 5th...</td>\n",
              "      <td>2954</td>\n",
              "      <td>3140.0</td>\n",
              "      <td>2809.0</td>\n",
              "      <td>2945</td>\n",
              "      <td>4548</td>\n",
              "      <td>1542</td>\n",
              "    </tr>\n",
              "    <tr>\n",
              "      <th>18</th>\n",
              "      <td>04/22/2017</td>\n",
              "      <td>100</td>\n",
              "      <td>Kempegowda, Majestic, Bengaluru, Karnataka</td>\n",
              "      <td>171</td>\n",
              "      <td>Analytics India Magazine, #280, 2nd floor, 5th...</td>\n",
              "      <td>2972</td>\n",
              "      <td>3461.0</td>\n",
              "      <td>2244.0</td>\n",
              "      <td>2941</td>\n",
              "      <td>4189</td>\n",
              "      <td>1574</td>\n",
              "    </tr>\n",
              "    <tr>\n",
              "      <th>19</th>\n",
              "      <td>04/23/2017</td>\n",
              "      <td>100</td>\n",
              "      <td>Kempegowda, Majestic, Bengaluru, Karnataka</td>\n",
              "      <td>171</td>\n",
              "      <td>Analytics India Magazine, #280, 2nd floor, 5th...</td>\n",
              "      <td>2336</td>\n",
              "      <td>2510.0</td>\n",
              "      <td>2098.0</td>\n",
              "      <td>2453</td>\n",
              "      <td>2748</td>\n",
              "      <td>1671</td>\n",
              "    </tr>\n",
              "  </tbody>\n",
              "</table>\n",
              "</div>"
            ],
            "text/plain": [
              "          Date  ...  Early Morning Mean Travel Time (Seconds)\n",
              "14  04/18/2017  ...                                      1578\n",
              "15  04/19/2017  ...                                      1497\n",
              "16  04/20/2017  ...                                      1601\n",
              "17  04/21/2017  ...                                      1542\n",
              "18  04/22/2017  ...                                      1574\n",
              "19  04/23/2017  ...                                      1671\n",
              "\n",
              "[6 rows x 11 columns]"
            ]
          },
          "metadata": {
            "tags": []
          },
          "execution_count": 20
        }
      ]
    },
    {
      "cell_type": "code",
      "metadata": {
        "colab": {
          "base_uri": "https://localhost:8080/",
          "height": 388
        },
        "id": "w2ThSwj9-qvR",
        "outputId": "cf72e801-3864-4791-ae92-7af3b452611e"
      },
      "source": [
        "plt.rcParams['figure.figsize']=(8,6)\r\n",
        "sns.lineplot(x='Date',y='AM Mean Travel Time (Seconds)',data=data2)\r\n",
        "\r\n",
        "plt.show()"
      ],
      "execution_count": 21,
      "outputs": [
        {
          "output_type": "display_data",
          "data": {
            "image/png": "[encoded data removed]",
            "text/plain": [
              "<Figure size 576x432 with 1 Axes>"
            ]
          },
          "metadata": {
            "tags": [],
            "needs_background": "light"
          }
        }
      ]
    },
    {
      "cell_type": "code",
      "metadata": {
        "colab": {
          "base_uri": "https://localhost:8080/",
          "height": 388
        },
        "id": "Bm-tkB8a-tjX",
        "outputId": "0d0f8f90-ce13-439c-deea-3529f660ddd1"
      },
      "source": [
        "plt.rcParams['figure.figsize']=(8,6)\r\n",
        "sns.lineplot(x='Date',y='Early Morning Mean Travel Time (Seconds)',data=data2)\r\n",
        "\r\n",
        "plt.show()"
      ],
      "execution_count": 43,
      "outputs": [
        {
          "output_type": "display_data",
          "data": {
            "image/png": "[encoded data removed]",
            "text/plain": [
              "<Figure size 576x432 with 1 Axes>"
            ]
          },
          "metadata": {
            "tags": [],
            "needs_background": "light"
          }
        }
      ]
    },
    {
      "cell_type": "code",
      "metadata": {
        "colab": {
          "base_uri": "https://localhost:8080/",
          "height": 1000
        },
        "id": "BRFXxCFKwUF7",
        "outputId": "597c3ddb-9641-4ee8-9e5c-615f2617de17"
      },
      "source": [
        "data3=df[40:58]\r\n",
        "data3"
      ],
      "execution_count": 40,
      "outputs": [
        {
          "output_type": "execute_result",
          "data": {
            "text/html": [
              "<div>\n",
              "<style scoped>\n",
              "    .dataframe tbody tr th:only-of-type {\n",
              "        vertical-align: middle;\n",
              "    }\n",
              "\n",
              "    .dataframe tbody tr th {\n",
              "        vertical-align: top;\n",
              "    }\n",
              "\n",
              "    .dataframe thead th {\n",
              "        text-align: right;\n",
              "    }\n",
              "</style>\n",
              "<table border=\"1\" class=\"dataframe\">\n",
              "  <thead>\n",
              "    <tr style=\"text-align: right;\">\n",
              "      <th></th>\n",
              "      <th>Date</th>\n",
              "      <th>Origin Movement ID</th>\n",
              "      <th>Origin Display Name</th>\n",
              "      <th>Destination Movement ID</th>\n",
              "      <th>Destination Display Name</th>\n",
              "      <th>Daily Mean Travel Time (Seconds)</th>\n",
              "      <th>AM Mean Travel Time (Seconds)</th>\n",
              "      <th>PM Mean Travel Time (Seconds)</th>\n",
              "      <th>Midday Mean Travel Time (Seconds)</th>\n",
              "      <th>Evening  Mean Travel Time (Seconds)</th>\n",
              "      <th>Early Morning Mean Travel Time (Seconds)</th>\n",
              "    </tr>\n",
              "  </thead>\n",
              "  <tbody>\n",
              "    <tr>\n",
              "      <th>40</th>\n",
              "      <td>05/14/2017</td>\n",
              "      <td>100</td>\n",
              "      <td>Kempegowda, Majestic, Bengaluru, Karnataka</td>\n",
              "      <td>171</td>\n",
              "      <td>Analytics India Magazine, #280, 2nd floor, 5th...</td>\n",
              "      <td>2258</td>\n",
              "      <td>2329.0</td>\n",
              "      <td>1874.0</td>\n",
              "      <td>2387</td>\n",
              "      <td>2763</td>\n",
              "      <td>1479</td>\n",
              "    </tr>\n",
              "    <tr>\n",
              "      <th>41</th>\n",
              "      <td>05/15/2017</td>\n",
              "      <td>100</td>\n",
              "      <td>Kempegowda, Majestic, Bengaluru, Karnataka</td>\n",
              "      <td>171</td>\n",
              "      <td>Analytics India Magazine, #280, 2nd floor, 5th...</td>\n",
              "      <td>2680</td>\n",
              "      <td>3026.0</td>\n",
              "      <td>2911.0</td>\n",
              "      <td>2747</td>\n",
              "      <td>3634</td>\n",
              "      <td>1587</td>\n",
              "    </tr>\n",
              "    <tr>\n",
              "      <th>42</th>\n",
              "      <td>05/16/2017</td>\n",
              "      <td>100</td>\n",
              "      <td>Kempegowda, Majestic, Bengaluru, Karnataka</td>\n",
              "      <td>171</td>\n",
              "      <td>Analytics India Magazine, #280, 2nd floor, 5th...</td>\n",
              "      <td>2607</td>\n",
              "      <td>2928.0</td>\n",
              "      <td>2488.0</td>\n",
              "      <td>2694</td>\n",
              "      <td>3484</td>\n",
              "      <td>1602</td>\n",
              "    </tr>\n",
              "    <tr>\n",
              "      <th>43</th>\n",
              "      <td>05/17/2017</td>\n",
              "      <td>100</td>\n",
              "      <td>Kempegowda, Majestic, Bengaluru, Karnataka</td>\n",
              "      <td>171</td>\n",
              "      <td>Analytics India Magazine, #280, 2nd floor, 5th...</td>\n",
              "      <td>2901</td>\n",
              "      <td>3017.0</td>\n",
              "      <td>2528.0</td>\n",
              "      <td>3081</td>\n",
              "      <td>3912</td>\n",
              "      <td>1585</td>\n",
              "    </tr>\n",
              "    <tr>\n",
              "      <th>44</th>\n",
              "      <td>05/18/2017</td>\n",
              "      <td>100</td>\n",
              "      <td>Kempegowda, Majestic, Bengaluru, Karnataka</td>\n",
              "      <td>171</td>\n",
              "      <td>Analytics India Magazine, #280, 2nd floor, 5th...</td>\n",
              "      <td>2851</td>\n",
              "      <td>3111.0</td>\n",
              "      <td>2776.0</td>\n",
              "      <td>2903</td>\n",
              "      <td>4000</td>\n",
              "      <td>1572</td>\n",
              "    </tr>\n",
              "    <tr>\n",
              "      <th>45</th>\n",
              "      <td>05/19/2017</td>\n",
              "      <td>100</td>\n",
              "      <td>Kempegowda, Majestic, Bengaluru, Karnataka</td>\n",
              "      <td>171</td>\n",
              "      <td>Analytics India Magazine, #280, 2nd floor, 5th...</td>\n",
              "      <td>2832</td>\n",
              "      <td>2802.0</td>\n",
              "      <td>2637.0</td>\n",
              "      <td>3150</td>\n",
              "      <td>3959</td>\n",
              "      <td>1481</td>\n",
              "    </tr>\n",
              "    <tr>\n",
              "      <th>46</th>\n",
              "      <td>05/20/2017</td>\n",
              "      <td>100</td>\n",
              "      <td>Kempegowda, Majestic, Bengaluru, Karnataka</td>\n",
              "      <td>171</td>\n",
              "      <td>Analytics India Magazine, #280, 2nd floor, 5th...</td>\n",
              "      <td>2689</td>\n",
              "      <td>2989.0</td>\n",
              "      <td>2153.0</td>\n",
              "      <td>2909</td>\n",
              "      <td>3581</td>\n",
              "      <td>1592</td>\n",
              "    </tr>\n",
              "    <tr>\n",
              "      <th>47</th>\n",
              "      <td>05/21/2017</td>\n",
              "      <td>100</td>\n",
              "      <td>Kempegowda, Majestic, Bengaluru, Karnataka</td>\n",
              "      <td>171</td>\n",
              "      <td>Analytics India Magazine, #280, 2nd floor, 5th...</td>\n",
              "      <td>2364</td>\n",
              "      <td>2337.0</td>\n",
              "      <td>2835.0</td>\n",
              "      <td>2260</td>\n",
              "      <td>2564</td>\n",
              "      <td>1857</td>\n",
              "    </tr>\n",
              "    <tr>\n",
              "      <th>48</th>\n",
              "      <td>05/22/2017</td>\n",
              "      <td>100</td>\n",
              "      <td>Kempegowda, Majestic, Bengaluru, Karnataka</td>\n",
              "      <td>171</td>\n",
              "      <td>Analytics India Magazine, #280, 2nd floor, 5th...</td>\n",
              "      <td>2546</td>\n",
              "      <td>2992.0</td>\n",
              "      <td>2658.0</td>\n",
              "      <td>2500</td>\n",
              "      <td>3880</td>\n",
              "      <td>1551</td>\n",
              "    </tr>\n",
              "    <tr>\n",
              "      <th>49</th>\n",
              "      <td>05/23/2017</td>\n",
              "      <td>100</td>\n",
              "      <td>Kempegowda, Majestic, Bengaluru, Karnataka</td>\n",
              "      <td>171</td>\n",
              "      <td>Analytics India Magazine, #280, 2nd floor, 5th...</td>\n",
              "      <td>2641</td>\n",
              "      <td>2880.0</td>\n",
              "      <td>2719.0</td>\n",
              "      <td>2832</td>\n",
              "      <td>3601</td>\n",
              "      <td>1501</td>\n",
              "    </tr>\n",
              "    <tr>\n",
              "      <th>50</th>\n",
              "      <td>05/24/2017</td>\n",
              "      <td>100</td>\n",
              "      <td>Kempegowda, Majestic, Bengaluru, Karnataka</td>\n",
              "      <td>171</td>\n",
              "      <td>Analytics India Magazine, #280, 2nd floor, 5th...</td>\n",
              "      <td>2812</td>\n",
              "      <td>3022.0</td>\n",
              "      <td>2661.0</td>\n",
              "      <td>3053</td>\n",
              "      <td>3664</td>\n",
              "      <td>1503</td>\n",
              "    </tr>\n",
              "    <tr>\n",
              "      <th>51</th>\n",
              "      <td>05/25/2017</td>\n",
              "      <td>100</td>\n",
              "      <td>Kempegowda, Majestic, Bengaluru, Karnataka</td>\n",
              "      <td>171</td>\n",
              "      <td>Analytics India Magazine, #280, 2nd floor, 5th...</td>\n",
              "      <td>2818</td>\n",
              "      <td>3040.0</td>\n",
              "      <td>2848.0</td>\n",
              "      <td>2902</td>\n",
              "      <td>3774</td>\n",
              "      <td>1520</td>\n",
              "    </tr>\n",
              "    <tr>\n",
              "      <th>52</th>\n",
              "      <td>05/26/2017</td>\n",
              "      <td>100</td>\n",
              "      <td>Kempegowda, Majestic, Bengaluru, Karnataka</td>\n",
              "      <td>171</td>\n",
              "      <td>Analytics India Magazine, #280, 2nd floor, 5th...</td>\n",
              "      <td>3360</td>\n",
              "      <td>3004.0</td>\n",
              "      <td>2639.0</td>\n",
              "      <td>5053</td>\n",
              "      <td>3754</td>\n",
              "      <td>1461</td>\n",
              "    </tr>\n",
              "    <tr>\n",
              "      <th>53</th>\n",
              "      <td>05/27/2017</td>\n",
              "      <td>100</td>\n",
              "      <td>Kempegowda, Majestic, Bengaluru, Karnataka</td>\n",
              "      <td>171</td>\n",
              "      <td>Analytics India Magazine, #280, 2nd floor, 5th...</td>\n",
              "      <td>2932</td>\n",
              "      <td>3261.0</td>\n",
              "      <td>2280.0</td>\n",
              "      <td>3170</td>\n",
              "      <td>4096</td>\n",
              "      <td>1738</td>\n",
              "    </tr>\n",
              "    <tr>\n",
              "      <th>54</th>\n",
              "      <td>05/28/2017</td>\n",
              "      <td>100</td>\n",
              "      <td>Kempegowda, Majestic, Bengaluru, Karnataka</td>\n",
              "      <td>171</td>\n",
              "      <td>Analytics India Magazine, #280, 2nd floor, 5th...</td>\n",
              "      <td>2193</td>\n",
              "      <td>2475.0</td>\n",
              "      <td>1971.0</td>\n",
              "      <td>2292</td>\n",
              "      <td>2536</td>\n",
              "      <td>1434</td>\n",
              "    </tr>\n",
              "    <tr>\n",
              "      <th>55</th>\n",
              "      <td>05/29/2017</td>\n",
              "      <td>100</td>\n",
              "      <td>Kempegowda, Majestic, Bengaluru, Karnataka</td>\n",
              "      <td>171</td>\n",
              "      <td>Analytics India Magazine, #280, 2nd floor, 5th...</td>\n",
              "      <td>2747</td>\n",
              "      <td>3155.0</td>\n",
              "      <td>2812.0</td>\n",
              "      <td>2906</td>\n",
              "      <td>4104</td>\n",
              "      <td>1521</td>\n",
              "    </tr>\n",
              "    <tr>\n",
              "      <th>56</th>\n",
              "      <td>05/30/2017</td>\n",
              "      <td>100</td>\n",
              "      <td>Kempegowda, Majestic, Bengaluru, Karnataka</td>\n",
              "      <td>171</td>\n",
              "      <td>Analytics India Magazine, #280, 2nd floor, 5th...</td>\n",
              "      <td>2641</td>\n",
              "      <td>3091.0</td>\n",
              "      <td>2768.0</td>\n",
              "      <td>2738</td>\n",
              "      <td>3716</td>\n",
              "      <td>1362</td>\n",
              "    </tr>\n",
              "    <tr>\n",
              "      <th>57</th>\n",
              "      <td>05/31/2017</td>\n",
              "      <td>100</td>\n",
              "      <td>Kempegowda, Majestic, Bengaluru, Karnataka</td>\n",
              "      <td>171</td>\n",
              "      <td>Analytics India Magazine, #280, 2nd floor, 5th...</td>\n",
              "      <td>2762</td>\n",
              "      <td>3016.0</td>\n",
              "      <td>2744.0</td>\n",
              "      <td>2856</td>\n",
              "      <td>3816</td>\n",
              "      <td>1402</td>\n",
              "    </tr>\n",
              "  </tbody>\n",
              "</table>\n",
              "</div>"
            ],
            "text/plain": [
              "          Date  ...  Early Morning Mean Travel Time (Seconds)\n",
              "40  05/14/2017  ...                                      1479\n",
              "41  05/15/2017  ...                                      1587\n",
              "42  05/16/2017  ...                                      1602\n",
              "43  05/17/2017  ...                                      1585\n",
              "44  05/18/2017  ...                                      1572\n",
              "45  05/19/2017  ...                                      1481\n",
              "46  05/20/2017  ...                                      1592\n",
              "47  05/21/2017  ...                                      1857\n",
              "48  05/22/2017  ...                                      1551\n",
              "49  05/23/2017  ...                                      1501\n",
              "50  05/24/2017  ...                                      1503\n",
              "51  05/25/2017  ...                                      1520\n",
              "52  05/26/2017  ...                                      1461\n",
              "53  05/27/2017  ...                                      1738\n",
              "54  05/28/2017  ...                                      1434\n",
              "55  05/29/2017  ...                                      1521\n",
              "56  05/30/2017  ...                                      1362\n",
              "57  05/31/2017  ...                                      1402\n",
              "\n",
              "[18 rows x 11 columns]"
            ]
          },
          "metadata": {
            "tags": []
          },
          "execution_count": 40
        }
      ]
    },
    {
      "cell_type": "code",
      "metadata": {
        "colab": {
          "base_uri": "https://localhost:8080/",
          "height": 388
        },
        "id": "msnDdgCzxNLv",
        "outputId": "6091bf72-2798-4df1-be2a-e66c6c0ec73c"
      },
      "source": [
        "plt.rcParams['figure.figsize']=(20,6)\r\n",
        "sns.lineplot(x=\"Date\",y=\"AM Mean Travel Time (Seconds)\",data=data3)\r\n",
        "\r\n",
        "plt.show()"
      ],
      "execution_count": 49,
      "outputs": [
        {
          "output_type": "display_data",
          "data": {
            "image/png": "[encoded data removed]",
            "text/plain": [
              "<Figure size 1440x432 with 1 Axes>"
            ]
          },
          "metadata": {
            "tags": [],
            "needs_background": "light"
          }
        }
      ]
    },
    {
      "cell_type": "code",
      "metadata": {
        "colab": {
          "base_uri": "https://localhost:8080/",
          "height": 400
        },
        "id": "MeJbUace_GTv",
        "outputId": "3d88531a-f235-4348-9e6a-355f54c9011d"
      },
      "source": [
        "sns.catplot(x='AM Mean Travel Time (Seconds)', kind = 'box', data=data1)"
      ],
      "execution_count": 34,
      "outputs": [
        {
          "output_type": "execute_result",
          "data": {
            "text/plain": [
              "<seaborn.axisgrid.FacetGrid at 0x7f6af0a47358>"
            ]
          },
          "metadata": {
            "tags": []
          },
          "execution_count": 34
        },
        {
          "output_type": "display_data",
          "data": {
            "image/png": "[encoded data removed]",
            "text/plain": [
              "<Figure size 360x360 with 1 Axes>"
            ]
          },
          "metadata": {
            "tags": [],
            "needs_background": "light"
          }
        }
      ]
    },
    {
      "cell_type": "code",
      "metadata": {
        "colab": {
          "base_uri": "https://localhost:8080/",
          "height": 400
        },
        "id": "GNL_hPq2_Jfk",
        "outputId": "ebb18f0d-2c68-47e3-d816-2864858dc7a4"
      },
      "source": [
        "sns.catplot(x='PM Mean Travel Time (Seconds)', kind = 'box', data=data1)"
      ],
      "execution_count": 35,
      "outputs": [
        {
          "output_type": "execute_result",
          "data": {
            "text/plain": [
              "<seaborn.axisgrid.FacetGrid at 0x7f6af0a3af98>"
            ]
          },
          "metadata": {
            "tags": []
          },
          "execution_count": 35
        },
        {
          "output_type": "display_data",
          "data": {
            "image/png": "[encoded data removed]",
            "text/plain": [
              "<Figure size 360x360 with 1 Axes>"
            ]
          },
          "metadata": {
            "tags": [],
            "needs_background": "light"
          }
        }
      ]
    },
    {
      "cell_type": "code",
      "metadata": {
        "colab": {
          "base_uri": "https://localhost:8080/",
          "height": 400
        },
        "id": "I51STRWZBOVC",
        "outputId": "991fe0c9-425f-4d51-88bc-c3430b1a7946"
      },
      "source": [
        "sns.catplot(x='PM Mean Travel Time (Seconds)', kind = 'box', data=data1)"
      ],
      "execution_count": 36,
      "outputs": [
        {
          "output_type": "execute_result",
          "data": {
            "text/plain": [
              "<seaborn.axisgrid.FacetGrid at 0x7f6af08e9a20>"
            ]
          },
          "metadata": {
            "tags": []
          },
          "execution_count": 36
        },
        {
          "output_type": "display_data",
          "data": {
            "image/png": "[encoded data removed]",
            "text/plain": [
              "<Figure size 360x360 with 1 Axes>"
            ]
          },
          "metadata": {
            "tags": [],
            "needs_background": "light"
          }
        }
      ]
    },
    {
      "cell_type": "code",
      "metadata": {
        "colab": {
          "base_uri": "https://localhost:8080/",
          "height": 442
        },
        "id": "-qsxFYsPIEqt",
        "outputId": "06f6c456-5d33-41d6-d2b2-8fbb67aa06a7"
      },
      "source": [
        "sns.distplot(data1['AM Mean Travel Time (Seconds)'], kde=False);"
      ],
      "execution_count": 37,
      "outputs": [
        {
          "output_type": "stream",
          "text": [
            "/usr/local/lib/python3.6/dist-packages/seaborn/distributions.py:2557: FutureWarning: `distplot` is a deprecated function and will be removed in a future version. Please adapt your code to use either `displot` (a figure-level function with similar flexibility) or `histplot` (an axes-level function for histograms).\n",
            "  warnings.warn(msg, FutureWarning)\n"
          ],
          "name": "stderr"
        },
        {
          "output_type": "display_data",
          "data": {
            "image/png": "[encoded data removed]",
            "text/plain": [
              "<Figure size 576x432 with 1 Axes>"
            ]
          },
          "metadata": {
            "tags": [],
            "needs_background": "light"
          }
        }
      ]
    },
    {
      "cell_type": "code",
      "metadata": {
        "colab": {
          "base_uri": "https://localhost:8080/",
          "height": 388
        },
        "id": "CeGbn5fcIL8O",
        "outputId": "2721a6bb-5136-47b1-dc7a-a8195120ab4e"
      },
      "source": [
        "sns.kdeplot(data1['AM Mean Travel Time (Seconds)'], lw=5);"
      ],
      "execution_count": 38,
      "outputs": [
        {
          "output_type": "display_data",
          "data": {
            "image/png": "[encoded data removed]",
            "text/plain": [
              "<Figure size 576x432 with 1 Axes>"
            ]
          },
          "metadata": {
            "tags": [],
            "needs_background": "light"
          }
        }
      ]
    },
    {
      "cell_type": "code",
      "metadata": {
        "colab": {
          "base_uri": "https://localhost:8080/",
          "height": 459
        },
        "id": "b9ocfZXlIOlc",
        "outputId": "a92756d1-16b8-4c4b-f0b9-641fd14c74c8"
      },
      "source": [
        "\r\n",
        "sns.distplot(data1['AM Mean Travel Time (Seconds)'], bins=5)"
      ],
      "execution_count": 39,
      "outputs": [
        {
          "output_type": "stream",
          "text": [
            "/usr/local/lib/python3.6/dist-packages/seaborn/distributions.py:2557: FutureWarning: `distplot` is a deprecated function and will be removed in a future version. Please adapt your code to use either `displot` (a figure-level function with similar flexibility) or `histplot` (an axes-level function for histograms).\n",
            "  warnings.warn(msg, FutureWarning)\n"
          ],
          "name": "stderr"
        },
        {
          "output_type": "execute_result",
          "data": {
            "text/plain": [
              "<matplotlib.axes._subplots.AxesSubplot at 0x7f6af076d080>"
            ]
          },
          "metadata": {
            "tags": []
          },
          "execution_count": 39
        },
        {
          "output_type": "display_data",
          "data": {
            "image/png": "[encoded data removed]",
            "text/plain": [
              "<Figure size 576x432 with 1 Axes>"
            ]
          },
          "metadata": {
            "tags": [],
            "needs_background": "light"
          }
        }
      ]
    },
    {
      "cell_type": "code",
      "metadata": {
        "id": "rsYosJXsBhY_"
      },
      "source": [
        ""
      ],
      "execution_count": null,
      "outputs": []
    },
    {
      "cell_type": "code",
      "metadata": {
        "id": "TsWyk07CoLeI"
      },
      "source": [
        ""
      ],
      "execution_count": null,
      "outputs": []
    }
  ]
}